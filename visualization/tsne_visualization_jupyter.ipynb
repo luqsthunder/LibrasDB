{
 "cells": [
  {
   "cell_type": "code",
   "execution_count": 1,
   "metadata": {
    "collapsed": true
   },
   "outputs": [
    {
     "ename": "ModuleNotFoundError",
     "evalue": "No module named 'chart_studio'",
     "output_type": "error",
     "traceback": [
      "\u001B[1;31m---------------------------------------------------------------------------\u001B[0m",
      "\u001B[1;31mModuleNotFoundError\u001B[0m                       Traceback (most recent call last)",
      "\u001B[1;32m<ipython-input-1-8465b5e28fb6>\u001B[0m in \u001B[0;36m<module>\u001B[1;34m\u001B[0m\n\u001B[0;32m      4\u001B[0m \u001B[1;32mimport\u001B[0m \u001B[0mmatplotlib\u001B[0m\u001B[1;33m.\u001B[0m\u001B[0mpyplot\u001B[0m \u001B[1;32mas\u001B[0m \u001B[0mplt\u001B[0m\u001B[1;33m\u001B[0m\u001B[1;33m\u001B[0m\u001B[0m\n\u001B[0;32m      5\u001B[0m \u001B[1;32mimport\u001B[0m \u001B[0mseaborn\u001B[0m \u001B[1;32mas\u001B[0m \u001B[0msns\u001B[0m\u001B[1;33m\u001B[0m\u001B[1;33m\u001B[0m\u001B[0m\n\u001B[1;32m----> 6\u001B[1;33m \u001B[1;32mimport\u001B[0m \u001B[0mchart_studio\u001B[0m\u001B[1;33m.\u001B[0m\u001B[0mplotly\u001B[0m \u001B[1;32mas\u001B[0m \u001B[0mpy\u001B[0m\u001B[1;33m\u001B[0m\u001B[1;33m\u001B[0m\u001B[0m\n\u001B[0m\u001B[0;32m      7\u001B[0m \u001B[1;32mimport\u001B[0m \u001B[0mplotly\u001B[0m\u001B[1;33m.\u001B[0m\u001B[0mgraph_objs\u001B[0m \u001B[1;32mas\u001B[0m \u001B[0mgo\u001B[0m\u001B[1;33m\u001B[0m\u001B[1;33m\u001B[0m\u001B[0m\n\u001B[0;32m      8\u001B[0m \u001B[1;32mfrom\u001B[0m \u001B[0msklearn\u001B[0m\u001B[1;33m.\u001B[0m\u001B[0mmanifold\u001B[0m \u001B[1;32mimport\u001B[0m \u001B[0mTSNE\u001B[0m\u001B[1;33m\u001B[0m\u001B[1;33m\u001B[0m\u001B[0m\n",
      "\u001B[1;31mModuleNotFoundError\u001B[0m: No module named 'chart_studio'"
     ]
    }
   ],
   "source": [
    "from libras_classifiers.librasdb_loaders import DBLoader2NPY\n",
    "import pandas as pd\n",
    "import numpy as np\n",
    "import matplotlib.pyplot as plt\n",
    "import seaborn as sns\n",
    "import plotly.graph_objs as go\n",
    "from sklearn.manifold import TSNE\n",
    "\n",
    "def label_point(x, y, val, ax):\n",
    "    a = pd.DataFrame({'x': x, 'y': y, 'val': val})\n",
    "    for i, point in a.iterrows():\n",
    "        ax.text(point['x']+.02, point['y'], str(point['val']))\n",
    "\n",
    "batch_size = 8\n",
    "db = DBLoader2NPY('../../libras-db-folders', batch_size=batch_size,\n",
    "                  no_hands=True, angle_pose=True)\n",
    "db.fill_samples_absent_frames_with_na()\n",
    "tsne = TSNE(n_components=2, random_state=0)\n",
    "all_samples = db.batch_load_samples(samples_idxs=[x for x in range(db.db_length())])\n",
    "\n",
    "all_x = []\n",
    "all_y = []\n",
    "all_samples_idx = []\n",
    "all_idx = []\n",
    "for it, sample in enumerate(all_samples[0]):\n",
    "    sample_id_aux = []\n",
    "    for it_frame, frame in enumerate(sample):\n",
    "        if any(frame):\n",
    "            all_x.append(frame[1:])\n",
    "            all_y.append(np.argmax(all_samples[1][it]))\n",
    "            all_idx.append(it)\n",
    "            sample_id_aux.append(it)\n",
    "    all_samples_idx.append(sample_id_aux)\n",
    "\n",
    "res = tsne.fit_transform(all_x)\n",
    "\n",
    "df = pd.DataFrame(dict(x=[x[0] for x in res], y=[x[1] for x in res], sample_idx=[x for x in all_idx],\n",
    "                       cls=all_y))\n",
    "np.random.seed(5)\n",
    "samples_ids = (np.random.randint(0, 40, size=5).tolist()) + (np.random.randint(40, 80, size=5).tolist())\n",
    "a = df['sample_idx'].isin(samples_ids)\n",
    "df = df[a]\n",
    "\n",
    "figure = go.FigureWidget()\n",
    "figure.add_scatter(x=df.x, y=df.y, mode='markers')\n",
    "dt = figure.data[0]\n",
    "\n",
    "colors = ['#a3a7e4'] * df.shape[0]\n",
    "dt.marker.color = colors\n",
    "dt.marker.size = [10] * df.shape[0]\n",
    "figure.layout.hovermode = 'closest'\n",
    "\n",
    "def on_click_cb(trace, points, selector):\n",
    "    c = list(dt.marker.color)\n",
    "    s = list(dt.marker.size)\n",
    "    for i in points.point_inds:\n",
    "        c[i] = '#bae2be'\n",
    "        s[i] = 20\n",
    "        with figure.batch_update():\n",
    "            dt.marker.color = c\n",
    "            dt.marker.size = s\n",
    "\n",
    "\n",
    "dt.on_click(on_click_cb)\n",
    "py.iplot(figure, filename='tsne')"
   ]
  },
  {
   "cell_type": "code",
   "execution_count": 9,
   "outputs": [
    {
     "name": "stdout",
     "output_type": "stream",
     "text": [
      "hi\n"
     ]
    },
    {
     "data": {
      "text/plain": "VBox(children=(FigureWidget({\n    'data': [{'type': 'pie', 'uid': '76574239-dad0-4ca3-934e-a79a8814a080', 'val…",
      "application/vnd.jupyter.widget-view+json": {
       "version_major": 2,
       "version_minor": 0,
       "model_id": "dca6b0a9e1d14f44b78632843d9d1e07"
      }
     },
     "metadata": {},
     "output_type": "display_data"
    }
   ],
   "source": [
    "fig = go.FigureWidget()\n",
    "pie = fig.add_pie(values=[1, 2, 3])\n",
    "\n",
    "def handle_click(trace, points, state):\n",
    "    print(points.point_inds)\n",
    "    print('hiho')\n",
    "\n",
    "fig.data[0].on_click(handle_click)\n",
    "py.iplot(fig, filename='test from internet')"
   ],
   "metadata": {
    "collapsed": false,
    "pycharm": {
     "name": "#%%\n"
    }
   }
  }
 ],
 "metadata": {
  "kernelspec": {
   "name": "pycharm-ddc5d435",
   "language": "python",
   "display_name": "PyCharm (LibrasDB)"
  },
  "language_info": {
   "codemirror_mode": {
    "name": "ipython",
    "version": 2
   },
   "file_extension": ".py",
   "mimetype": "text/x-python",
   "name": "python",
   "nbconvert_exporter": "python",
   "pygments_lexer": "ipython2",
   "version": "2.7.6"
  }
 },
 "nbformat": 4,
 "nbformat_minor": 0
}
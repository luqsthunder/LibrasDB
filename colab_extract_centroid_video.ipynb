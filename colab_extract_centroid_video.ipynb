{
 "cells": [
  {
   "cell_type": "code",
   "execution_count": null,
   "outputs": [],
   "source": [
    "from os.path import exists, basename, splitext\n",
    "\n",
    "git_repo_url = 'https://github.com/CMU-Perceptual-Computing-Lab/openpose.git'\n",
    "op_bersion = 'v1.6.0'\n",
    "project_name = splitext(basename(git_repo_url))[0]\n",
    "if not exists(project_name):\n",
    "  # see: https://github.com/CMU-Perceptual-Computing-Lab/openpose/issues/949\n",
    "  # install new CMake becaue of CUDA10\n",
    "  !wget -q https://cmake.org/files/v3.13/cmake-3.13.0-Linux-x86_64.tar.gz\n",
    "  !tar xfz cmake-3.13.0-Linux-x86_64.tar.gz --strip-components=1 -C /usr/local\n",
    "  # clone openpose\n",
    "  !git clone -q --depth 1 $git_repo_url\n",
    "  !git checkout $op_version\n",
    "  !sed -i 's/execute_process(COMMAND git checkout master WORKING_DIRECTORY ${CMAKE_SOURCE_DIR}\\/3rdparty\\/caffe)/execute_process(COMMAND git checkout f019d0dfe86f49d1140961f8c7dec22130c83154 WORKING_DIRECTORY ${CMAKE_SOURCE_DIR}\\/3rdparty\\/caffe)/g' openpose/CMakeLists.txt\n",
    "  # install system dependencies\n",
    "  !apt-get -qq install -y libatlas-base-dev libprotobuf-dev libleveldb-dev libsnappy-dev libhdf5-serial-dev protobuf-compiler libgflags-dev libgoogle-glog-dev liblmdb-dev opencl-headers ocl-icd-opencl-dev libviennacl-dev\n",
    "\n",
    "  # build openpose\n",
    "  !cd openpose && rm -rf build || true && mkdir build && cd build && cmake .. -DBUILD_PYTHON=ON -DDOWNLOAD_BODY_25_MODEL=ON -DDOWNLOAD_BODY_25_MODEL=ON -DDOWNLOAD_BODY_MPI_MODEL=ON -DDOWNLOAD_FACE_MODEL=ON -DDOWNLOAD_HAND_MODEL=ON && make -j`nproc`"
   ],
   "metadata": {
    "collapsed": false,
    "pycharm": {
     "name": "#%%\n"
    }
   }
  },
  {
   "cell_type": "code",
   "execution_count": null,
   "metadata": {
    "collapsed": true
   },
   "outputs": [],
   "source": [
    "from pose_extractor.pose_centroid_tracker import PoseCentroidTracker\n",
    "tracker = PoseCentroidTracker('all_videos.csv')\n",
    "\n",
    "folder_name = '../LibrasCorpusScrapy/db\\\\Santa Catarina\\\\' \\\n",
    "              'Inventario Libras' \\\n",
    "              '\\\\ Inventário Nacional de Libras - Grande ' \\\n",
    "              'Florianópolis (Parte II) v1074\\\\' \\\n",
    "              'FLN_G1_M1_entrevista_CAM1.mp4'\n",
    "\n",
    "tracker.register_persons_from_sign_df(folder_name)"
   ]
  }
 ],
 "metadata": {
  "kernelspec": {
   "display_name": "Python 3",
   "language": "python",
   "name": "python3"
  },
  "language_info": {
   "codemirror_mode": {
    "name": "ipython",
    "version": 2
   },
   "file_extension": ".py",
   "mimetype": "text/x-python",
   "name": "python",
   "nbconvert_exporter": "python",
   "pygments_lexer": "ipython2",
   "version": "2.7.6"
  }
 },
 "nbformat": 4,
 "nbformat_minor": 0
}